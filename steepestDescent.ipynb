{
  "nbformat": 4,
  "nbformat_minor": 0,
  "metadata": {
    "colab": {
      "name": "steepestDescent.ipynb",
      "provenance": [],
      "authorship_tag": "ABX9TyNBn6bTbjCrVPTqnI53wB6a",
      "include_colab_link": true
    },
    "kernelspec": {
      "name": "python3",
      "display_name": "Python 3"
    }
  },
  "cells": [
    {
      "cell_type": "markdown",
      "metadata": {
        "id": "view-in-github",
        "colab_type": "text"
      },
      "source": [
        "<a href=\"https://colab.research.google.com/github/yasminemedhat/optimization-techniques/blob/master/steepestDescent.ipynb\" target=\"_parent\"><img src=\"https://colab.research.google.com/assets/colab-badge.svg\" alt=\"Open In Colab\"/></a>"
      ]
    },
    {
      "cell_type": "code",
      "metadata": {
        "id": "MTJWi8zidlgb",
        "colab_type": "code",
        "colab": {}
      },
      "source": [
        "from sympy import *\n",
        "import numpy as np"
      ],
      "execution_count": 0,
      "outputs": []
    },
    {
      "cell_type": "code",
      "metadata": {
        "id": "b7oha3vnkyC1",
        "colab_type": "code",
        "colab": {}
      },
      "source": [
        "def steepestDescent(fx, gradientEquations, x0, iterations):\n",
        "  x, y, l = symbols('x y l')\n",
        "  xi = x0\n",
        "  for i in range(iterations):\n",
        "    print(\"iteration: \", i+1)\n",
        "    gradient = np.array([gradientEquations[0].subs({x:xi[0], y:xi[1]}),gradientEquations[1].subs({x:xi[0], y:xi[1]})])\n",
        "    print(\"gradient: \", gradient)\n",
        "    x_new = xi - (gradient*l)\n",
        "    print(\"new x: \", x_new)\n",
        "    f_lamda = fx.subs({x:x_new[0],y:x_new[1]})\n",
        "    print(\"flamda\",f_lamda)\n",
        "    partial_lamda = Derivative(f_lamda,l).doit()\n",
        "    step = solve(partial_lamda)\n",
        "    print(\"step value: \",step)\n",
        "    xi = xi - step[0]*gradient\n",
        "    print(\"x\",i+1,\" \",xi,\"\\n\\n\")"
      ],
      "execution_count": 0,
      "outputs": []
    },
    {
      "cell_type": "code",
      "metadata": {
        "id": "_E-s868qwa_4",
        "colab_type": "code",
        "colab": {}
      },
      "source": [
        "x, y, l = symbols('x y l')\n",
        "fx = x - y + 2*(x**2) + 2*x*y + y**2\n",
        "partial_x = Derivative(fx,x).doit()\n",
        "partial_y = Derivative(fx,y).doit()\n",
        "x0 = np.array([0,0])"
      ],
      "execution_count": 0,
      "outputs": []
    },
    {
      "cell_type": "code",
      "metadata": {
        "id": "jG8n27WYxvBo",
        "colab_type": "code",
        "outputId": "914eceec-384a-4174-f997-c94114ce32f1",
        "colab": {
          "base_uri": "https://localhost:8080/",
          "height": 425
        }
      },
      "source": [
        "steepestDescent(fx, [partial_x,partial_y], x0, 3)"
      ],
      "execution_count": 0,
      "outputs": [
        {
          "output_type": "stream",
          "text": [
            "iteration:  1\n",
            "gradient:  [1 -1]\n",
            "new x:  [-l l]\n",
            "flamda l**2 - 2*l\n",
            "step value:  [1]\n",
            "x 1   [-1 1] \n",
            "\n",
            "\n",
            "iteration:  2\n",
            "gradient:  [-1 -1]\n",
            "new x:  [l - 1 l + 1]\n",
            "flamda 2*(l - 1)**2 + 2*(l - 1)*(l + 1) + (l + 1)**2 - 2\n",
            "step value:  [1/5]\n",
            "x 2   [-4/5 6/5] \n",
            "\n",
            "\n",
            "iteration:  3\n",
            "gradient:  [1/5 -1/5]\n",
            "new x:  [-l/5 - 4/5 l/5 + 6/5]\n",
            "flamda -2*l/5 + 2*(-l/5 - 4/5)**2 + 2*(-l/5 - 4/5)*(l/5 + 6/5) + (l/5 + 6/5)**2 - 2\n",
            "step value:  [1]\n",
            "x 3   [-1 7/5] \n",
            "\n",
            "\n"
          ],
          "name": "stdout"
        }
      ]
    },
    {
      "cell_type": "code",
      "metadata": {
        "id": "zaYR2VmIx7eU",
        "colab_type": "code",
        "colab": {}
      },
      "source": [
        ""
      ],
      "execution_count": 0,
      "outputs": []
    }
  ]
}
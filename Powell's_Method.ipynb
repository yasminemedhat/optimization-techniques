{
  "nbformat": 4,
  "nbformat_minor": 0,
  "metadata": {
    "colab": {
      "name": "Powell's_Method.ipynb",
      "provenance": [],
      "authorship_tag": "ABX9TyO4jkiGpek2zPx+mNvEo7QC",
      "include_colab_link": true
    },
    "kernelspec": {
      "name": "python3",
      "display_name": "Python 3"
    }
  },
  "cells": [
    {
      "cell_type": "markdown",
      "metadata": {
        "id": "view-in-github",
        "colab_type": "text"
      },
      "source": [
        "<a href=\"https://colab.research.google.com/github/yasminemedhat/optimization-techniques/blob/master/Powell's_Method.ipynb\" target=\"_parent\"><img src=\"https://colab.research.google.com/assets/colab-badge.svg\" alt=\"Open In Colab\"/></a>"
      ]
    },
    {
      "cell_type": "code",
      "metadata": {
        "id": "q3o949Pg1Ot1",
        "colab_type": "code",
        "colab": {}
      },
      "source": [
        "from sympy import *\n",
        "import numpy as np"
      ],
      "execution_count": 0,
      "outputs": []
    },
    {
      "cell_type": "code",
      "metadata": {
        "id": "n_YCC-gI5_N5",
        "colab_type": "code",
        "colab": {}
      },
      "source": [
        "def powell(fx,x0):\n",
        "  iteration = 0\n",
        "  x = x0\n",
        "  sp1 = np.array([0,1])\n",
        "  cycle = 1\n",
        "  print(\"Cycle:\",cycle)\n",
        "  s1 = np.array([1,0])\n",
        "  s2 = np.array([0,1])\n",
        "  z = getZ(fx,x, s2,iteration)\n",
        "  x = performCycle(fx,z,np.array([s1,s2]),iteration)\n",
        "  sp = x-z\n",
        "  print()\n",
        "  print(\"Search pattern 1:\",sp)\n",
        "  cycle +=1\n",
        "  print(\"Cycle:\",cycle)\n",
        "  s1 = np.array([1,0])\n",
        "  s2 = np.array([0,1])\n",
        "  z = getZ(fx,x, sp,iteration)\n",
        "  x = performCycle(fx,z,np.array([s2,sp]),iteration)\n",
        "  sp = x-z\n",
        "  print(\"Search pattern 2:\",sp)"
      ],
      "execution_count": 0,
      "outputs": []
    },
    {
      "cell_type": "code",
      "metadata": {
        "id": "-j3SfolpCnwz",
        "colab_type": "code",
        "colab": {}
      },
      "source": [
        "def getZ(fx,xi,s,iteration):\n",
        "  iteration += 1\n",
        "  print(\"iteration:\", iteration)\n",
        "  x, y, l = symbols('x y l')\n",
        "  f = fx.subs({x:xi[0],y:xi[1]})\n",
        "  print(\"f(X) =\", f)\n",
        "  direction = probeTest(fx,f,xi,s)\n",
        "  x_new = xi + (direction * l * s)\n",
        "  f_lamda = fx.subs({x:x_new[0],y:x_new[1]})\n",
        "  partial_lamda = Derivative(f_lamda,l).doit()\n",
        "  step = solve(partial_lamda)\n",
        "  print(\"step value: \",step)\n",
        "  z = xi + (direction*step[0]*s)\n",
        "  print(\"x =\", z)\n",
        "  print()\n",
        "  return z"
      ],
      "execution_count": 0,
      "outputs": []
    },
    {
      "cell_type": "code",
      "metadata": {
        "id": "loNISkTVFizE",
        "colab_type": "code",
        "colab": {}
      },
      "source": [
        "def performCycle(fx, x0, s, iteration):\n",
        "  x, y, l = symbols('x y l')\n",
        "  xi = x0\n",
        "  for i in range(2):\n",
        "    iteration += 1\n",
        "    print(\"iteration:\", iteration)\n",
        "    f = fx.subs({x:xi[0],y:xi[1]})\n",
        "    print(\"f(X) =\", f)\n",
        "    direction = probeTest(fx,f,xi,s[i])\n",
        "    x_new = xi + (direction * l * s[i])\n",
        "    f_lamda = fx.subs({x:x_new[0],y:x_new[1]})\n",
        "    partial_lamda = Derivative(f_lamda,l).doit()\n",
        "    step = solve(partial_lamda)\n",
        "    print(\"step value: \",step)\n",
        "    xi = xi + (direction*step[0]*s[i])\n",
        "    print(\"x =\", xi)\n",
        "    print()\n",
        "  return xi"
      ],
      "execution_count": 0,
      "outputs": []
    },
    {
      "cell_type": "code",
      "metadata": {
        "id": "KnCjQgb2Hrua",
        "colab_type": "code",
        "colab": {}
      },
      "source": [
        "def probeTest(fx,f,xi,s):\n",
        "  x, y, l = symbols('x y l')\n",
        "  print(\"f =\",f)\n",
        "  p = xi + e*s \n",
        "  fp = fx.subs({x:p[0],y:p[1]})\n",
        "  print(\"f+ = \", fp)\n",
        "  n = xi - e*s \n",
        "  fn = fx.subs({x:n[0],y:n[1]})\n",
        "  print(\"f- = \", fn)\n",
        "  if fp < f:\n",
        "    return 1\n",
        "  else:\n",
        "    return -1"
      ],
      "execution_count": 0,
      "outputs": []
    },
    {
      "cell_type": "code",
      "metadata": {
        "id": "sIG8E-9MJWGc",
        "colab_type": "code",
        "outputId": "95c4ca77-0fb0-43ec-d31f-de640d2b4c9e",
        "colab": {
          "base_uri": "https://localhost:8080/",
          "height": 918
        }
      },
      "source": [
        "x, y, l = symbols('x y l')\n",
        "fx = x - y + 2*(x**2) + 2*x*y + y**2\n",
        "x0 = np.array([0,0])\n",
        "e = 0.01\n",
        "powell(fx,x0)"
      ],
      "execution_count": 0,
      "outputs": [
        {
          "output_type": "stream",
          "text": [
            "Cycle: 1\n",
            "iteration: 1\n",
            "f(X) = 0\n",
            "f = 0\n",
            "f+ =  -0.00990000000000000\n",
            "f- =  0.0101000000000000\n",
            "step value:  [1/2]\n",
            "x = [0 1/2]\n",
            "\n",
            "iteration: 1\n",
            "f(X) = -1/4\n",
            "f = -1/4\n",
            "f+ =  -0.229800000000000\n",
            "f- =  -0.269800000000000\n",
            "step value:  [1/2]\n",
            "x = [-1/2 1/2]\n",
            "\n",
            "iteration: 2\n",
            "f(X) = -3/4\n",
            "f = -3/4\n",
            "f+ =  -0.759900000000000\n",
            "f- =  -0.739900000000000\n",
            "step value:  [1/2]\n",
            "x = [-1/2 1]\n",
            "\n",
            "\n",
            "Search pattern 1: [-1/2 1/2]\n",
            "Cycle: 2\n",
            "iteration: 1\n",
            "f(X) = -1\n",
            "f = -1\n",
            "f+ =  -1.00497500000000\n",
            "f- =  -0.994975000000000\n",
            "step value:  [1]\n",
            "x = [-1 3/2]\n",
            "\n",
            "iteration: 1\n",
            "f(X) = -5/4\n",
            "f = -5/4\n",
            "f+ =  -1.24990000000000\n",
            "f- =  -1.24990000000000\n",
            "step value:  [0]\n",
            "x = [-1 3/2]\n",
            "\n",
            "iteration: 2\n",
            "f(X) = -5/4\n",
            "f = -5/4\n",
            "f+ =  -1.24997500000000\n",
            "f- =  -1.24997500000000\n",
            "step value:  [0]\n",
            "x = [-1 3/2]\n",
            "\n",
            "Search pattern 2: [0 0]\n"
          ],
          "name": "stdout"
        }
      ]
    },
    {
      "cell_type": "code",
      "metadata": {
        "id": "UmS_690aKaya",
        "colab_type": "code",
        "colab": {}
      },
      "source": [
        ""
      ],
      "execution_count": 0,
      "outputs": []
    }
  ]
}